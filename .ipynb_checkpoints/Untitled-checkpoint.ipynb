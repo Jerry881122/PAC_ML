{
 "cells": [
  {
   "cell_type": "code",
   "execution_count": null,
   "id": "7d49b5a2",
   "metadata": {},
   "outputs": [
    {
     "name": "stdout",
     "output_type": "stream",
     "text": [
      "l1.val = 2\n",
      "l1.next = <__main__.ListNode object at 0x7ff667229730>\n",
      "result value = 2\n",
      "l1.val = 4\n",
      "l1.next = <__main__.ListNode object at 0x7ff667229070>\n",
      "result value = 6\n",
      "l1.val = 3\n",
      "l1.next = None\n",
      "result value = 9\n"
     ]
    }
   ],
   "source": [
    "class ListNode:\n",
    "    def __init__(self, val=0, next=None):\n",
    "        self.val = val\n",
    "        self.next = next\n",
    "\n",
    "# 建立鏈結串列\n",
    "l1 = [2, 4, 3]\n",
    "l2 = [5, 6, 4]\n",
    "list1 = ListNode(l1[0])\n",
    "current = list1\n",
    "for i in range(1, len(l1)):\n",
    "    current.next = ListNode(l1[i])\n",
    "    current = current.next\n",
    "list2 = ListNode(l2[0])\n",
    "current = list2\n",
    "for i in range(1, len(l2)):\n",
    "    current.next = ListNode(l2[i])\n",
    "    current = current.next\n",
    "\n",
    "class Solution:\n",
    "    def addTwoNumbers(self, l1, l2):\n",
    "        result = ListNode()\n",
    "        carry = 0\n",
    "        while l1 != None or l2 != None:\n",
    "            if l1 != None:\n",
    "                print(\"l1.val =\",l1.val)\n",
    "                print(\"l1.next =\",l1.next)\n",
    "                result.val = result.val + l1.val\n",
    "                print('result value =',result.val)\n",
    "                l1 = l1.next\n",
    "            elif l2 != None :\n",
    "                print(\"l2.val =\",l2.val)\n",
    "                print('l2.next =',l2.next)\n",
    "                result.val = result.val + l2.val\n",
    "                print('result value =',result.val)\n",
    "                l2 = l2.next\n",
    "            else :\n",
    "                result.val = result.val + carry\n",
    "                carry = 0\n",
    "                \n",
    "            if result.val >= 10:       # bigger than 10 set the carry bit = 1\n",
    "                carry = 1\n",
    "                result.val = result.val%10\n",
    "        \n",
    "            \n",
    "            \n",
    "            \n",
    "a = Solution()\n",
    "a.addTwoNumbers(list1,list2)\n"
   ]
  },
  {
   "cell_type": "code",
   "execution_count": null,
   "id": "a1f796af",
   "metadata": {},
   "outputs": [],
   "source": []
  },
  {
   "cell_type": "code",
   "execution_count": null,
   "id": "6e999557",
   "metadata": {},
   "outputs": [],
   "source": []
  },
  {
   "cell_type": "code",
   "execution_count": null,
   "id": "31c42a8b",
   "metadata": {},
   "outputs": [],
   "source": [
    " "
   ]
  }
 ],
 "metadata": {
  "kernelspec": {
   "display_name": "Python 3 (ipykernel)",
   "language": "python",
   "name": "python3"
  },
  "language_info": {
   "codemirror_mode": {
    "name": "ipython",
    "version": 3
   },
   "file_extension": ".py",
   "mimetype": "text/x-python",
   "name": "python",
   "nbconvert_exporter": "python",
   "pygments_lexer": "ipython3",
   "version": "3.9.7"
  }
 },
 "nbformat": 4,
 "nbformat_minor": 5
}
