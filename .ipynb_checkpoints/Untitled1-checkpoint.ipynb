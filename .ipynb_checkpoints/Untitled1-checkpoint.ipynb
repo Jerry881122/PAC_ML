{
 "cells": [
  {
   "cell_type": "code",
   "execution_count": 49,
   "id": "d85a16eb",
   "metadata": {},
   "outputs": [],
   "source": [
    "import pandas as pd\n",
    "import numpy as np\n",
    "from torch.utils.data import Dataset\n",
    "import torch\n",
    "\n",
    "# using pandas to read csv file\n",
    "df = pd.read_csv('_N=128_L=8_frame=10_SNR=2.000000_.csv')\n",
    "\n",
    "\n",
    "# pandas -> numpy -> tensor , and first 8 data are feature & last data are label\n",
    "feature = torch.tensor(df.iloc[:,0:-1].to_numpy())\n",
    "label = torch.tensor(df.iloc[:,-1].to_numpy())"
   ]
  },
  {
   "cell_type": "code",
   "execution_count": 63,
   "id": "0c3f75b2",
   "metadata": {},
   "outputs": [],
   "source": [
    "class MyDataset(Dataset):\n",
    "    def __init__(self, feature, label):\n",
    "        self.feature = feature\n",
    "        self.label = label\n",
    "\n",
    "    def __len__(self):\n",
    "        return len(self.feature)\n",
    "\n",
    "    def __getitem__(self, index):\n",
    "        return self.feature[index], self.label[index]"
   ]
  },
  {
   "cell_type": "code",
   "execution_count": 66,
   "id": "0024383e",
   "metadata": {},
   "outputs": [],
   "source": [
    "dataset = MyDataset(feature,label)"
   ]
  },
  {
   "cell_type": "code",
   "execution_count": null,
   "id": "02467d5a",
   "metadata": {},
   "outputs": [],
   "source": []
  },
  {
   "cell_type": "code",
   "execution_count": 4,
   "id": "223ba72d",
   "metadata": {},
   "outputs": [
    {
     "data": {
      "text/plain": [
       "RangeIndex(start=0, stop=10, step=1)"
      ]
     },
     "execution_count": 4,
     "metadata": {},
     "output_type": "execute_result"
    }
   ],
   "source": []
  },
  {
   "cell_type": "code",
   "execution_count": 5,
   "id": "fdf4f6c2",
   "metadata": {},
   "outputs": [
    {
     "data": {
      "text/plain": [
       "PM_0      float64\n",
       "PM_1      float64\n",
       "PM_2      float64\n",
       "PM_3      float64\n",
       "PM_4      float64\n",
       "PM_5      float64\n",
       "PM_6      float64\n",
       "PM_7      float64\n",
       "C or E      int64\n",
       "dtype: object"
      ]
     },
     "execution_count": 5,
     "metadata": {},
     "output_type": "execute_result"
    }
   ],
   "source": []
  },
  {
   "cell_type": "code",
   "execution_count": 6,
   "id": "8ceea096",
   "metadata": {},
   "outputs": [
    {
     "data": {
      "text/plain": [
       "0    13.63180\n",
       "1    13.82510\n",
       "2    14.86840\n",
       "3     4.24122\n",
       "4    16.31010\n",
       "5    22.29260\n",
       "6    32.87380\n",
       "7    17.44180\n",
       "8    10.66950\n",
       "9    11.02270\n",
       "Name: PM_0, dtype: float64"
      ]
     },
     "execution_count": 6,
     "metadata": {},
     "output_type": "execute_result"
    }
   ],
   "source": []
  },
  {
   "cell_type": "code",
   "execution_count": 46,
   "id": "45a99d7f",
   "metadata": {},
   "outputs": [
    {
     "name": "stdout",
     "output_type": "stream",
     "text": [
      "(tensor([-0.0236,  0.0721,  0.6663,  1.2866,  0.1333,  1.4473,  0.4737, -0.9339]), tensor(1))\n"
     ]
    }
   ],
   "source": [
    "class MyDataset(Dataset):\n",
    "    def __init__(self, data, labels):\n",
    "        self.data = data\n",
    "        self.labels = labels\n",
    "\n",
    "    def __len__(self):\n",
    "        return len(self.data)\n",
    "\n",
    "    def __getitem__(self, index):\n",
    "        # 返回數據和標籤\n",
    "        x = self.data[index]\n",
    "        y = self.labels[index]\n",
    "        return x, y\n",
    "\n",
    "# 假設有數據集\n",
    "X = torch.randn(1000, 8)\n",
    "y = torch.randint(0, 2, (1000,))\n",
    "\n",
    "# 創建 MyDataset 實例\n",
    "dataset = MyDataset(X, y)\n",
    "\n",
    "# 訪問數據集中的第一個樣本\n",
    "print(dataset[0])"
   ]
  },
  {
   "cell_type": "code",
   "execution_count": 14,
   "id": "4149858a",
   "metadata": {},
   "outputs": [
    {
     "data": {
      "text/html": [
       "<div>\n",
       "<style scoped>\n",
       "    .dataframe tbody tr th:only-of-type {\n",
       "        vertical-align: middle;\n",
       "    }\n",
       "\n",
       "    .dataframe tbody tr th {\n",
       "        vertical-align: top;\n",
       "    }\n",
       "\n",
       "    .dataframe thead th {\n",
       "        text-align: right;\n",
       "    }\n",
       "</style>\n",
       "<table border=\"1\" class=\"dataframe\">\n",
       "  <thead>\n",
       "    <tr style=\"text-align: right;\">\n",
       "      <th></th>\n",
       "      <th>PM_0</th>\n",
       "      <th>PM_1</th>\n",
       "    </tr>\n",
       "  </thead>\n",
       "  <tbody>\n",
       "    <tr>\n",
       "      <th>0</th>\n",
       "      <td>13.6318</td>\n",
       "      <td>39.8685</td>\n",
       "    </tr>\n",
       "    <tr>\n",
       "      <th>1</th>\n",
       "      <td>13.8251</td>\n",
       "      <td>22.6956</td>\n",
       "    </tr>\n",
       "    <tr>\n",
       "      <th>2</th>\n",
       "      <td>14.8684</td>\n",
       "      <td>34.0691</td>\n",
       "    </tr>\n",
       "  </tbody>\n",
       "</table>\n",
       "</div>"
      ],
      "text/plain": [
       "      PM_0     PM_1\n",
       "0  13.6318  39.8685\n",
       "1  13.8251  22.6956\n",
       "2  14.8684  34.0691"
      ]
     },
     "execution_count": 14,
     "metadata": {},
     "output_type": "execute_result"
    }
   ],
   "source": []
  },
  {
   "cell_type": "code",
   "execution_count": 19,
   "id": "ef07dbe8",
   "metadata": {},
   "outputs": [
    {
     "data": {
      "text/html": [
       "<div>\n",
       "<style scoped>\n",
       "    .dataframe tbody tr th:only-of-type {\n",
       "        vertical-align: middle;\n",
       "    }\n",
       "\n",
       "    .dataframe tbody tr th {\n",
       "        vertical-align: top;\n",
       "    }\n",
       "\n",
       "    .dataframe thead th {\n",
       "        text-align: right;\n",
       "    }\n",
       "</style>\n",
       "<table border=\"1\" class=\"dataframe\">\n",
       "  <thead>\n",
       "    <tr style=\"text-align: right;\">\n",
       "      <th></th>\n",
       "      <th>PM_0</th>\n",
       "      <th>PM_1</th>\n",
       "      <th>PM_2</th>\n",
       "    </tr>\n",
       "  </thead>\n",
       "  <tbody>\n",
       "    <tr>\n",
       "      <th>0</th>\n",
       "      <td>13.6318</td>\n",
       "      <td>39.8685</td>\n",
       "      <td>41.2399</td>\n",
       "    </tr>\n",
       "    <tr>\n",
       "      <th>1</th>\n",
       "      <td>13.8251</td>\n",
       "      <td>22.6956</td>\n",
       "      <td>22.7065</td>\n",
       "    </tr>\n",
       "  </tbody>\n",
       "</table>\n",
       "</div>"
      ],
      "text/plain": [
       "      PM_0     PM_1     PM_2\n",
       "0  13.6318  39.8685  41.2399\n",
       "1  13.8251  22.6956  22.7065"
      ]
     },
     "execution_count": 19,
     "metadata": {},
     "output_type": "execute_result"
    }
   ],
   "source": []
  },
  {
   "cell_type": "code",
   "execution_count": 17,
   "id": "5aef62c9",
   "metadata": {},
   "outputs": [
    {
     "data": {
      "text/plain": [
       "PM_0       4.24122\n",
       "PM_1      31.89040\n",
       "PM_2      34.75790\n",
       "PM_3      36.94600\n",
       "PM_4      38.26360\n",
       "PM_5      38.78100\n",
       "PM_6      39.46310\n",
       "PM_7      40.38590\n",
       "C or E     1.00000\n",
       "Name: 3, dtype: float64"
      ]
     },
     "execution_count": 17,
     "metadata": {},
     "output_type": "execute_result"
    }
   ],
   "source": []
  },
  {
   "cell_type": "code",
   "execution_count": null,
   "id": "11da81bf",
   "metadata": {},
   "outputs": [],
   "source": []
  }
 ],
 "metadata": {
  "kernelspec": {
   "display_name": "Python 3 (ipykernel)",
   "language": "python",
   "name": "python3"
  },
  "language_info": {
   "codemirror_mode": {
    "name": "ipython",
    "version": 3
   },
   "file_extension": ".py",
   "mimetype": "text/x-python",
   "name": "python",
   "nbconvert_exporter": "python",
   "pygments_lexer": "ipython3",
   "version": "3.9.7"
  }
 },
 "nbformat": 4,
 "nbformat_minor": 5
}
